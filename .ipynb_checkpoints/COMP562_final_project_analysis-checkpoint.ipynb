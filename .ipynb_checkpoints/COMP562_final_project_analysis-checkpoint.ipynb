{
 "cells": [
  {
   "cell_type": "markdown",
   "metadata": {},
   "source": [
    "# COMP 562 Final Project Analysis"
   ]
  },
  {
   "cell_type": "markdown",
   "metadata": {},
   "source": [
    "#### Authors:\n",
    "Cooper Lee, James Tuong, Nathaniel Turner, Alan Vasquez"
   ]
  },
  {
   "cell_type": "code",
<<<<<<< HEAD
   "execution_count": 7,
=======
   "execution_count": 22,
>>>>>>> 0f9d189a6b432fafb37046757c725d82053c014d
   "metadata": {},
   "outputs": [
    {
     "name": "stdout",
     "output_type": "stream",
     "text": [
      "Note: you may need to restart the kernel to use updated packages.\n"
     ]
    }
   ],
   "source": [
    "import glob\n",
    "import numpy as np\n",
    "import matplotlib.pyplot as plt\n",
<<<<<<< HEAD
    "import pandas as pd\n",
    "import plotly.express as px\n",
    "\n",
    "\n",
    "from sklearn.model_selection import train_test_split\n",
    "from sklearn.metrics import accuracy_score\n",
    "from sklearn.ensemble import RandomForestClassifier\n"
=======
    "import csv\n",
    "import pandas as pd\n",
    "import matplotlib.pyplot as plt\n",
    "from sklearn import datasets\n",
    "%pip install mlxtend --quiet\n",
    "from sklearn.model_selection import train_test_split\n",
    "import mlxtend\n",
    "from mlxtend.plotting import plot_decision_regions\n",
    "from sklearn.metrics import accuracy_score\n",
    "from sklearn.ensemble import RandomForestClassifier\n",
    "# import sklearn #need to figure out what parts of sklearn to import that we'll use"
>>>>>>> 0f9d189a6b432fafb37046757c725d82053c014d
   ]
  },
  {
   "cell_type": "markdown",
   "metadata": {},
   "source": [
    "Loading in the dataset and splitting into test and training set (may want to do each time for the different methods)"
   ]
  },
  {
   "cell_type": "code",
<<<<<<< HEAD
   "execution_count": 2,
=======
   "execution_count": 36,
>>>>>>> 0f9d189a6b432fafb37046757c725d82053c014d
   "metadata": {},
   "outputs": [],
   "source": [
    "dpath = \"data/heart.csv\"\n",
    "feature_names = [\"age\",\"sex\",\"cp\",\"trtbps\",\"chol\",\"fbs\",\"restecg\",\"thalachh\",\n",
    "                                 \"exng\",\"oldpeak\",\"slp\",\"caa\",\"thall\", \"output\"]\n",
    "\n",
    "data = np.genfromtxt(dpath, delimiter=\",\", skip_header=1, names=feature_names)\n",
    "\n",
    "heart_data = np.array([data[i] for i in feature_names[:-1]]).T\n",
    "heart_attack_odds = data[\"output\"]"
   ]
  },
  {
   "cell_type": "code",
<<<<<<< HEAD
   "execution_count": 3,
=======
   "execution_count": 37,
   "metadata": {},
   "outputs": [
    {
     "data": {
      "text/html": [
       "<div>\n",
       "<style scoped>\n",
       "    .dataframe tbody tr th:only-of-type {\n",
       "        vertical-align: middle;\n",
       "    }\n",
       "\n",
       "    .dataframe tbody tr th {\n",
       "        vertical-align: top;\n",
       "    }\n",
       "\n",
       "    .dataframe thead th {\n",
       "        text-align: right;\n",
       "    }\n",
       "</style>\n",
       "<table border=\"1\" class=\"dataframe\">\n",
       "  <thead>\n",
       "    <tr style=\"text-align: right;\">\n",
       "      <th></th>\n",
       "      <th>age</th>\n",
       "      <th>sex</th>\n",
       "      <th>cp</th>\n",
       "      <th>trtbps</th>\n",
       "      <th>chol</th>\n",
       "      <th>fbs</th>\n",
       "      <th>restecg</th>\n",
       "      <th>thalachh</th>\n",
       "      <th>exng</th>\n",
       "      <th>oldpeak</th>\n",
       "      <th>slp</th>\n",
       "      <th>caa</th>\n",
       "      <th>thall</th>\n",
       "      <th>output</th>\n",
       "    </tr>\n",
       "  </thead>\n",
       "  <tbody>\n",
       "    <tr>\n",
       "      <th>0</th>\n",
       "      <td>63.0</td>\n",
       "      <td>1.0</td>\n",
       "      <td>3.0</td>\n",
       "      <td>145.0</td>\n",
       "      <td>233.0</td>\n",
       "      <td>1.0</td>\n",
       "      <td>0.0</td>\n",
       "      <td>150.0</td>\n",
       "      <td>0.0</td>\n",
       "      <td>2.3</td>\n",
       "      <td>0.0</td>\n",
       "      <td>0.0</td>\n",
       "      <td>1.0</td>\n",
       "      <td>1.0</td>\n",
       "    </tr>\n",
       "    <tr>\n",
       "      <th>1</th>\n",
       "      <td>37.0</td>\n",
       "      <td>1.0</td>\n",
       "      <td>2.0</td>\n",
       "      <td>130.0</td>\n",
       "      <td>250.0</td>\n",
       "      <td>0.0</td>\n",
       "      <td>1.0</td>\n",
       "      <td>187.0</td>\n",
       "      <td>0.0</td>\n",
       "      <td>3.5</td>\n",
       "      <td>0.0</td>\n",
       "      <td>0.0</td>\n",
       "      <td>2.0</td>\n",
       "      <td>1.0</td>\n",
       "    </tr>\n",
       "    <tr>\n",
       "      <th>2</th>\n",
       "      <td>41.0</td>\n",
       "      <td>0.0</td>\n",
       "      <td>1.0</td>\n",
       "      <td>130.0</td>\n",
       "      <td>204.0</td>\n",
       "      <td>0.0</td>\n",
       "      <td>0.0</td>\n",
       "      <td>172.0</td>\n",
       "      <td>0.0</td>\n",
       "      <td>1.4</td>\n",
       "      <td>2.0</td>\n",
       "      <td>0.0</td>\n",
       "      <td>2.0</td>\n",
       "      <td>1.0</td>\n",
       "    </tr>\n",
       "    <tr>\n",
       "      <th>3</th>\n",
       "      <td>56.0</td>\n",
       "      <td>1.0</td>\n",
       "      <td>1.0</td>\n",
       "      <td>120.0</td>\n",
       "      <td>236.0</td>\n",
       "      <td>0.0</td>\n",
       "      <td>1.0</td>\n",
       "      <td>178.0</td>\n",
       "      <td>0.0</td>\n",
       "      <td>0.8</td>\n",
       "      <td>2.0</td>\n",
       "      <td>0.0</td>\n",
       "      <td>2.0</td>\n",
       "      <td>1.0</td>\n",
       "    </tr>\n",
       "    <tr>\n",
       "      <th>4</th>\n",
       "      <td>57.0</td>\n",
       "      <td>0.0</td>\n",
       "      <td>0.0</td>\n",
       "      <td>120.0</td>\n",
       "      <td>354.0</td>\n",
       "      <td>0.0</td>\n",
       "      <td>1.0</td>\n",
       "      <td>163.0</td>\n",
       "      <td>1.0</td>\n",
       "      <td>0.6</td>\n",
       "      <td>2.0</td>\n",
       "      <td>0.0</td>\n",
       "      <td>2.0</td>\n",
       "      <td>1.0</td>\n",
       "    </tr>\n",
       "  </tbody>\n",
       "</table>\n",
       "</div>"
      ],
      "text/plain": [
       "    age  sex   cp  trtbps   chol  fbs  restecg  thalachh  exng  oldpeak  slp  \\\n",
       "0  63.0  1.0  3.0   145.0  233.0  1.0      0.0     150.0   0.0      2.3  0.0   \n",
       "1  37.0  1.0  2.0   130.0  250.0  0.0      1.0     187.0   0.0      3.5  0.0   \n",
       "2  41.0  0.0  1.0   130.0  204.0  0.0      0.0     172.0   0.0      1.4  2.0   \n",
       "3  56.0  1.0  1.0   120.0  236.0  0.0      1.0     178.0   0.0      0.8  2.0   \n",
       "4  57.0  0.0  0.0   120.0  354.0  0.0      1.0     163.0   1.0      0.6  2.0   \n",
       "\n",
       "   caa  thall  output  \n",
       "0  0.0    1.0     1.0  \n",
       "1  0.0    2.0     1.0  \n",
       "2  0.0    2.0     1.0  \n",
       "3  0.0    2.0     1.0  \n",
       "4  0.0    2.0     1.0  "
      ]
     },
     "execution_count": 37,
     "metadata": {},
     "output_type": "execute_result"
    }
   ],
   "source": [
    "DataFrame = pd.DataFrame(data).head()\n",
    "DataFrame"
   ]
  },
  {
   "cell_type": "code",
   "execution_count": 5,
>>>>>>> 0f9d189a6b432fafb37046757c725d82053c014d
   "metadata": {},
   "outputs": [],
   "source": [
    "X_train, X_test, y_train, y_test = train_test_split(heart_data, heart_attack_odds, test_size=0.3,\n",
    "                                                    random_state=1, stratify=heart_attack_odds)"
<<<<<<< HEAD
   ]
  },
  {
   "cell_type": "markdown",
   "metadata": {},
   "source": [
    "Preliminary Data Analysis"
   ]
  },
  {
   "cell_type": "code",
   "execution_count": 13,
   "metadata": {},
   "outputs": [
    {
     "data": {
      "text/html": [
       "<div>\n",
       "<style scoped>\n",
       "    .dataframe tbody tr th:only-of-type {\n",
       "        vertical-align: middle;\n",
       "    }\n",
       "\n",
       "    .dataframe tbody tr th {\n",
       "        vertical-align: top;\n",
       "    }\n",
       "\n",
       "    .dataframe thead th {\n",
       "        text-align: right;\n",
       "    }\n",
       "</style>\n",
       "<table border=\"1\" class=\"dataframe\">\n",
       "  <thead>\n",
       "    <tr style=\"text-align: right;\">\n",
       "      <th></th>\n",
       "      <th>age</th>\n",
       "      <th>sex</th>\n",
       "      <th>cp</th>\n",
       "      <th>trtbps</th>\n",
       "      <th>chol</th>\n",
       "      <th>fbs</th>\n",
       "      <th>restecg</th>\n",
       "      <th>thalachh</th>\n",
       "      <th>exng</th>\n",
       "      <th>oldpeak</th>\n",
       "      <th>slp</th>\n",
       "      <th>caa</th>\n",
       "      <th>thall</th>\n",
       "      <th>output</th>\n",
       "    </tr>\n",
       "  </thead>\n",
       "  <tbody>\n",
       "    <tr>\n",
       "      <th>age</th>\n",
       "      <td>1.000000</td>\n",
       "      <td>-0.098447</td>\n",
       "      <td>-0.068653</td>\n",
       "      <td>0.279351</td>\n",
       "      <td>0.213678</td>\n",
       "      <td>0.121308</td>\n",
       "      <td>-0.116211</td>\n",
       "      <td>-0.398522</td>\n",
       "      <td>0.096801</td>\n",
       "      <td>0.210013</td>\n",
       "      <td>-0.168814</td>\n",
       "      <td>0.276326</td>\n",
       "      <td>0.068001</td>\n",
       "      <td>-0.225439</td>\n",
       "    </tr>\n",
       "    <tr>\n",
       "      <th>sex</th>\n",
       "      <td>-0.098447</td>\n",
       "      <td>1.000000</td>\n",
       "      <td>-0.049353</td>\n",
       "      <td>-0.056769</td>\n",
       "      <td>-0.197912</td>\n",
       "      <td>0.045032</td>\n",
       "      <td>-0.058196</td>\n",
       "      <td>-0.044020</td>\n",
       "      <td>0.141664</td>\n",
       "      <td>0.096093</td>\n",
       "      <td>-0.030711</td>\n",
       "      <td>0.118261</td>\n",
       "      <td>0.210041</td>\n",
       "      <td>-0.280937</td>\n",
       "    </tr>\n",
       "    <tr>\n",
       "      <th>cp</th>\n",
       "      <td>-0.068653</td>\n",
       "      <td>-0.049353</td>\n",
       "      <td>1.000000</td>\n",
       "      <td>0.047608</td>\n",
       "      <td>-0.076904</td>\n",
       "      <td>0.094444</td>\n",
       "      <td>0.044421</td>\n",
       "      <td>0.295762</td>\n",
       "      <td>-0.394280</td>\n",
       "      <td>-0.149230</td>\n",
       "      <td>0.119717</td>\n",
       "      <td>-0.181053</td>\n",
       "      <td>-0.161736</td>\n",
       "      <td>0.433798</td>\n",
       "    </tr>\n",
       "    <tr>\n",
       "      <th>trtbps</th>\n",
       "      <td>0.279351</td>\n",
       "      <td>-0.056769</td>\n",
       "      <td>0.047608</td>\n",
       "      <td>1.000000</td>\n",
       "      <td>0.123174</td>\n",
       "      <td>0.177531</td>\n",
       "      <td>-0.114103</td>\n",
       "      <td>-0.046698</td>\n",
       "      <td>0.067616</td>\n",
       "      <td>0.193216</td>\n",
       "      <td>-0.121475</td>\n",
       "      <td>0.101389</td>\n",
       "      <td>0.062210</td>\n",
       "      <td>-0.144931</td>\n",
       "    </tr>\n",
       "    <tr>\n",
       "      <th>chol</th>\n",
       "      <td>0.213678</td>\n",
       "      <td>-0.197912</td>\n",
       "      <td>-0.076904</td>\n",
       "      <td>0.123174</td>\n",
       "      <td>1.000000</td>\n",
       "      <td>0.013294</td>\n",
       "      <td>-0.151040</td>\n",
       "      <td>-0.009940</td>\n",
       "      <td>0.067023</td>\n",
       "      <td>0.053952</td>\n",
       "      <td>-0.004038</td>\n",
       "      <td>0.070511</td>\n",
       "      <td>0.098803</td>\n",
       "      <td>-0.085239</td>\n",
       "    </tr>\n",
       "    <tr>\n",
       "      <th>fbs</th>\n",
       "      <td>0.121308</td>\n",
       "      <td>0.045032</td>\n",
       "      <td>0.094444</td>\n",
       "      <td>0.177531</td>\n",
       "      <td>0.013294</td>\n",
       "      <td>1.000000</td>\n",
       "      <td>-0.084189</td>\n",
       "      <td>-0.008567</td>\n",
       "      <td>0.025665</td>\n",
       "      <td>0.005747</td>\n",
       "      <td>-0.059894</td>\n",
       "      <td>0.137979</td>\n",
       "      <td>-0.032019</td>\n",
       "      <td>-0.028046</td>\n",
       "    </tr>\n",
       "    <tr>\n",
       "      <th>restecg</th>\n",
       "      <td>-0.116211</td>\n",
       "      <td>-0.058196</td>\n",
       "      <td>0.044421</td>\n",
       "      <td>-0.114103</td>\n",
       "      <td>-0.151040</td>\n",
       "      <td>-0.084189</td>\n",
       "      <td>1.000000</td>\n",
       "      <td>0.044123</td>\n",
       "      <td>-0.070733</td>\n",
       "      <td>-0.058770</td>\n",
       "      <td>0.093045</td>\n",
       "      <td>-0.072042</td>\n",
       "      <td>-0.011981</td>\n",
       "      <td>0.137230</td>\n",
       "    </tr>\n",
       "    <tr>\n",
       "      <th>thalachh</th>\n",
       "      <td>-0.398522</td>\n",
       "      <td>-0.044020</td>\n",
       "      <td>0.295762</td>\n",
       "      <td>-0.046698</td>\n",
       "      <td>-0.009940</td>\n",
       "      <td>-0.008567</td>\n",
       "      <td>0.044123</td>\n",
       "      <td>1.000000</td>\n",
       "      <td>-0.378812</td>\n",
       "      <td>-0.344187</td>\n",
       "      <td>0.386784</td>\n",
       "      <td>-0.213177</td>\n",
       "      <td>-0.096439</td>\n",
       "      <td>0.421741</td>\n",
       "    </tr>\n",
       "    <tr>\n",
       "      <th>exng</th>\n",
       "      <td>0.096801</td>\n",
       "      <td>0.141664</td>\n",
       "      <td>-0.394280</td>\n",
       "      <td>0.067616</td>\n",
       "      <td>0.067023</td>\n",
       "      <td>0.025665</td>\n",
       "      <td>-0.070733</td>\n",
       "      <td>-0.378812</td>\n",
       "      <td>1.000000</td>\n",
       "      <td>0.288223</td>\n",
       "      <td>-0.257748</td>\n",
       "      <td>0.115739</td>\n",
       "      <td>0.206754</td>\n",
       "      <td>-0.436757</td>\n",
       "    </tr>\n",
       "    <tr>\n",
       "      <th>oldpeak</th>\n",
       "      <td>0.210013</td>\n",
       "      <td>0.096093</td>\n",
       "      <td>-0.149230</td>\n",
       "      <td>0.193216</td>\n",
       "      <td>0.053952</td>\n",
       "      <td>0.005747</td>\n",
       "      <td>-0.058770</td>\n",
       "      <td>-0.344187</td>\n",
       "      <td>0.288223</td>\n",
       "      <td>1.000000</td>\n",
       "      <td>-0.577537</td>\n",
       "      <td>0.222682</td>\n",
       "      <td>0.210244</td>\n",
       "      <td>-0.430696</td>\n",
       "    </tr>\n",
       "    <tr>\n",
       "      <th>slp</th>\n",
       "      <td>-0.168814</td>\n",
       "      <td>-0.030711</td>\n",
       "      <td>0.119717</td>\n",
       "      <td>-0.121475</td>\n",
       "      <td>-0.004038</td>\n",
       "      <td>-0.059894</td>\n",
       "      <td>0.093045</td>\n",
       "      <td>0.386784</td>\n",
       "      <td>-0.257748</td>\n",
       "      <td>-0.577537</td>\n",
       "      <td>1.000000</td>\n",
       "      <td>-0.080155</td>\n",
       "      <td>-0.104764</td>\n",
       "      <td>0.345877</td>\n",
       "    </tr>\n",
       "    <tr>\n",
       "      <th>caa</th>\n",
       "      <td>0.276326</td>\n",
       "      <td>0.118261</td>\n",
       "      <td>-0.181053</td>\n",
       "      <td>0.101389</td>\n",
       "      <td>0.070511</td>\n",
       "      <td>0.137979</td>\n",
       "      <td>-0.072042</td>\n",
       "      <td>-0.213177</td>\n",
       "      <td>0.115739</td>\n",
       "      <td>0.222682</td>\n",
       "      <td>-0.080155</td>\n",
       "      <td>1.000000</td>\n",
       "      <td>0.151832</td>\n",
       "      <td>-0.391724</td>\n",
       "    </tr>\n",
       "    <tr>\n",
       "      <th>thall</th>\n",
       "      <td>0.068001</td>\n",
       "      <td>0.210041</td>\n",
       "      <td>-0.161736</td>\n",
       "      <td>0.062210</td>\n",
       "      <td>0.098803</td>\n",
       "      <td>-0.032019</td>\n",
       "      <td>-0.011981</td>\n",
       "      <td>-0.096439</td>\n",
       "      <td>0.206754</td>\n",
       "      <td>0.210244</td>\n",
       "      <td>-0.104764</td>\n",
       "      <td>0.151832</td>\n",
       "      <td>1.000000</td>\n",
       "      <td>-0.344029</td>\n",
       "    </tr>\n",
       "    <tr>\n",
       "      <th>output</th>\n",
       "      <td>-0.225439</td>\n",
       "      <td>-0.280937</td>\n",
       "      <td>0.433798</td>\n",
       "      <td>-0.144931</td>\n",
       "      <td>-0.085239</td>\n",
       "      <td>-0.028046</td>\n",
       "      <td>0.137230</td>\n",
       "      <td>0.421741</td>\n",
       "      <td>-0.436757</td>\n",
       "      <td>-0.430696</td>\n",
       "      <td>0.345877</td>\n",
       "      <td>-0.391724</td>\n",
       "      <td>-0.344029</td>\n",
       "      <td>1.000000</td>\n",
       "    </tr>\n",
       "  </tbody>\n",
       "</table>\n",
       "</div>"
      ],
      "text/plain": [
       "               age       sex        cp    trtbps      chol       fbs  \\\n",
       "age       1.000000 -0.098447 -0.068653  0.279351  0.213678  0.121308   \n",
       "sex      -0.098447  1.000000 -0.049353 -0.056769 -0.197912  0.045032   \n",
       "cp       -0.068653 -0.049353  1.000000  0.047608 -0.076904  0.094444   \n",
       "trtbps    0.279351 -0.056769  0.047608  1.000000  0.123174  0.177531   \n",
       "chol      0.213678 -0.197912 -0.076904  0.123174  1.000000  0.013294   \n",
       "fbs       0.121308  0.045032  0.094444  0.177531  0.013294  1.000000   \n",
       "restecg  -0.116211 -0.058196  0.044421 -0.114103 -0.151040 -0.084189   \n",
       "thalachh -0.398522 -0.044020  0.295762 -0.046698 -0.009940 -0.008567   \n",
       "exng      0.096801  0.141664 -0.394280  0.067616  0.067023  0.025665   \n",
       "oldpeak   0.210013  0.096093 -0.149230  0.193216  0.053952  0.005747   \n",
       "slp      -0.168814 -0.030711  0.119717 -0.121475 -0.004038 -0.059894   \n",
       "caa       0.276326  0.118261 -0.181053  0.101389  0.070511  0.137979   \n",
       "thall     0.068001  0.210041 -0.161736  0.062210  0.098803 -0.032019   \n",
       "output   -0.225439 -0.280937  0.433798 -0.144931 -0.085239 -0.028046   \n",
       "\n",
       "           restecg  thalachh      exng   oldpeak       slp       caa  \\\n",
       "age      -0.116211 -0.398522  0.096801  0.210013 -0.168814  0.276326   \n",
       "sex      -0.058196 -0.044020  0.141664  0.096093 -0.030711  0.118261   \n",
       "cp        0.044421  0.295762 -0.394280 -0.149230  0.119717 -0.181053   \n",
       "trtbps   -0.114103 -0.046698  0.067616  0.193216 -0.121475  0.101389   \n",
       "chol     -0.151040 -0.009940  0.067023  0.053952 -0.004038  0.070511   \n",
       "fbs      -0.084189 -0.008567  0.025665  0.005747 -0.059894  0.137979   \n",
       "restecg   1.000000  0.044123 -0.070733 -0.058770  0.093045 -0.072042   \n",
       "thalachh  0.044123  1.000000 -0.378812 -0.344187  0.386784 -0.213177   \n",
       "exng     -0.070733 -0.378812  1.000000  0.288223 -0.257748  0.115739   \n",
       "oldpeak  -0.058770 -0.344187  0.288223  1.000000 -0.577537  0.222682   \n",
       "slp       0.093045  0.386784 -0.257748 -0.577537  1.000000 -0.080155   \n",
       "caa      -0.072042 -0.213177  0.115739  0.222682 -0.080155  1.000000   \n",
       "thall    -0.011981 -0.096439  0.206754  0.210244 -0.104764  0.151832   \n",
       "output    0.137230  0.421741 -0.436757 -0.430696  0.345877 -0.391724   \n",
       "\n",
       "             thall    output  \n",
       "age       0.068001 -0.225439  \n",
       "sex       0.210041 -0.280937  \n",
       "cp       -0.161736  0.433798  \n",
       "trtbps    0.062210 -0.144931  \n",
       "chol      0.098803 -0.085239  \n",
       "fbs      -0.032019 -0.028046  \n",
       "restecg  -0.011981  0.137230  \n",
       "thalachh -0.096439  0.421741  \n",
       "exng      0.206754 -0.436757  \n",
       "oldpeak   0.210244 -0.430696  \n",
       "slp      -0.104764  0.345877  \n",
       "caa       0.151832 -0.391724  \n",
       "thall     1.000000 -0.344029  \n",
       "output   -0.344029  1.000000  "
      ]
     },
     "execution_count": 13,
     "metadata": {},
     "output_type": "execute_result"
    }
   ],
   "source": [
    "df=pd.read_csv(dpath)\n",
    " \n",
    "// Split Dataset into Categorical, Continous, and Output\n",
    "cat_cols = ['sex','exng','caa','cp','fbs','restecg','slp','thall']\n",
    "con_cols = [\"age\",\"trtbps\",\"chol\",\"thalachh\",\"oldpeak\"]\n",
    "target_col = [\"output\"]\n",
    "\n",
    "px.imshow(df['con_cols'].corr(),title=\"Correlation Plot of the Heat Failure Prediction\")\n",
    "\n",
    "corr = df.corr()\n"
=======
>>>>>>> 0f9d189a6b432fafb37046757c725d82053c014d
   ]
  },
  {
   "cell_type": "markdown",
   "metadata": {},
   "source": [
    "## Method 1: Binary Tree"
   ]
  },
  {
   "cell_type": "code",
   "execution_count": 38,
   "metadata": {},
   "outputs": [
    {
     "data": {
      "image/png": "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\n",
      "text/plain": [
       "<Figure size 432x288 with 1 Axes>"
      ]
     },
     "metadata": {
      "needs_background": "light"
     },
     "output_type": "display_data"
    },
    {
     "data": {
      "image/png": "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\n",
      "text/plain": [
       "<Figure size 432x288 with 1 Axes>"
      ]
     },
     "metadata": {
      "needs_background": "light"
     },
     "output_type": "display_data"
    },
    {
     "data": {
      "image/png": "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\n",
      "text/plain": [
       "<Figure size 432x288 with 1 Axes>"
      ]
     },
     "metadata": {
      "needs_background": "light"
     },
     "output_type": "display_data"
    },
    {
     "data": {
      "image/png": "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\n",
      "text/plain": [
       "<Figure size 432x288 with 1 Axes>"
      ]
     },
     "metadata": {
      "needs_background": "light"
     },
     "output_type": "display_data"
    },
    {
     "data": {
      "image/png": "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\n",
      "text/plain": [
       "<Figure size 432x288 with 1 Axes>"
      ]
     },
     "metadata": {
      "needs_background": "light"
     },
     "output_type": "display_data"
    },
    {
     "data": {
      "image/png": "iVBORw0KGgoAAAANSUhEUgAAAXcAAAEGCAYAAACevtWaAAAAOXRFWHRTb2Z0d2FyZQBNYXRwbG90bGliIHZlcnNpb24zLjUuMSwgaHR0cHM6Ly9tYXRwbG90bGliLm9yZy/YYfK9AAAACXBIWXMAAAsTAAALEwEAmpwYAAAPJElEQVR4nO3df6zdd13H8efLdQz5ERn0bqld4U5SlC5xA69zESHDJW6MPwoJmE4DDVkshk3BoGHjDyEhTUYiYIwOUtjCJMhsZLAaEJ0DnQRhu8OytatzldWta7PeAZGBZNru7R/nOzm29+6c3nPOvTufPh/JzT3ne77nnPcnbZ739HvP+TZVhSSpLT+x2gNIksbPuEtSg4y7JDXIuEtSg4y7JDVozWoPALB27dqanZ1d7TEkaarcfffdj1XVzGK3PSPiPjs7y/z8/GqPIUlTJcl/LHWbh2UkqUHGXZIaZNwlqUHGXZIaZNwlqUHGXZIaZNwlqUHGXZIaZNwlqUHPiE+ojmr2mi+syvMeuO71q/K8kjSIr9wlqUHGXZIaNDDuSTYk+UqSfUn2Jnlnt/39SR5Jsrv7urzvPtcm2Z/k/iSXTnIBkqQTDXPM/Sjw7qr6ZpLnA3cnua277SNV9Uf9OyfZBGwBzgN+Gvj7JC+rqmPjHFyStLSBr9yr6nBVfbO7/DiwD1j/NHfZDNxcVU9U1YPAfuDCcQwrSRrOSR1zTzILvAL4Rrfp6iT3JLkxyZndtvXAw313O8giPwySbEsyn2R+YWHh5CeXJC1p6LgneR7wWeBdVfV94KPAS4ELgMPAh57adZG71wkbqnZU1VxVzc3MLPofiUiSlmmouCc5nV7YP11VtwBU1aNVdayqngQ+zo8PvRwENvTd/Rzg0PhGliQNMsy7ZQLcAOyrqg/3bV/Xt9sbgT3d5V3AliRnJDkX2AjcOb6RJUmDDPNumVcBbwHuTbK72/Ze4IokF9A75HIAeDtAVe1NshO4j947ba7ynTKStLIGxr2qvsrix9G/+DT32Q5sH2EuSdII/ISqJDXIuEtSg4y7JDXIuEtSg4y7JDXIuEtSg4y7JDXIuEtSg4y7JDXIuEtSg4y7JDXIuEtSg4y7JDXIuEtSg4y7JDXIuEtSg4y7JDXIuEtSg4y7JDXIuEtSg4y7JDXIuEtSg4y7JDXIuEtSg4y7JDXIuEtSg4y7JDXIuEtSg4y7JDXIuEtSg4y7JDVoYNyTbEjylST7kuxN8s5u+wuT3Jbkge77mX33uTbJ/iT3J7l0kguQJJ1omFfuR4F3V9XLgYuAq5JsAq4Bbq+qjcDt3XW627YA5wGXAdcnOW0Sw0uSFjcw7lV1uKq+2V1+HNgHrAc2Azd1u90EvKG7vBm4uaqeqKoHgf3AhWOeW5L0NE7qmHuSWeAVwDeAs6vqMPR+AABndbutBx7uu9vBbtvxj7UtyXyS+YWFhWWMLklaytBxT/I84LPAu6rq+0+36yLb6oQNVTuqaq6q5mZmZoYdQ5I0hKHinuR0emH/dFXd0m1+NMm67vZ1wJFu+0FgQ9/dzwEOjWdcSdIwhnm3TIAbgH1V9eG+m3YBW7vLW4Fb+7ZvSXJGknOBjcCd4xtZkjTImiH2eRXwFuDeJLu7be8FrgN2JrkSeAh4M0BV7U2yE7iP3jttrqqqY+MeXJK0tIFxr6qvsvhxdIBLlrjPdmD7CHNJkkbgJ1QlqUHGXZIaZNwlqUHGXZIaZNwlqUHGXZIaZNwlqUHGXZIaZNwlqUHGXZIaZNwlqUHGXZIaZNwlqUHGXZIaZNwlqUHGXZIaZNwlqUHGXZIaZNwlqUHGXZIaZNwlqUHGXZIaZNwlqUHGXZIaZNwlqUHGXZIaZNwlqUHGXZIaZNwlqUHGXZIaZNwlqUED457kxiRHkuzp2/b+JI8k2d19Xd5327VJ9ie5P8mlkxpckrS0YV65fxK4bJHtH6mqC7qvLwIk2QRsAc7r7nN9ktPGNawkaTgD415VdwDfHfLxNgM3V9UTVfUgsB+4cIT5JEnLMMox96uT3NMdtjmz27YeeLhvn4PdthMk2ZZkPsn8wsLCCGNIko633Lh/FHgpcAFwGPhQtz2L7FuLPUBV7aiquaqam5mZWeYYkqTFLCvuVfVoVR2rqieBj/PjQy8HgQ19u54DHBptREnSyVpW3JOs67v6RuCpd9LsArYkOSPJucBG4M7RRpQknaw1g3ZI8hngYmBtkoPA+4CLk1xA75DLAeDtAFW1N8lO4D7gKHBVVR2byOSSpCUNjHtVXbHI5hueZv/twPZRhpIkjcZPqEpSg4y7JDXIuEtSg4y7JDXIuEtSg4y7JDXIuEtSg4y7JDXIuEtSg4y7JDXIuEtSg4y7JDXIuEtSg4y7JDXIuEtSg4y7JDXIuEtSg4y7JDXIuEtSg4y7JDXIuEtSg4y7JDXIuEtSg4y7JDXIuEtSg4y7JDXIuEtSg4y7JDXIuEtSg4y7JDXIuEtSgwbGPcmNSY4k2dO37YVJbkvyQPf9zL7brk2yP8n9SS6d1OCSpKUN88r9k8Blx227Bri9qjYCt3fXSbIJ2AKc193n+iSnjW1aSdJQBsa9qu4Avnvc5s3ATd3lm4A39G2/uaqeqKoHgf3AheMZVZI0rOUecz+7qg4DdN/P6ravBx7u2+9gt02StILG/QvVLLKtFt0x2ZZkPsn8wsLCmMeQpFPbcuP+aJJ1AN33I932g8CGvv3OAQ4t9gBVtaOq5qpqbmZmZpljSJIWs9y47wK2dpe3Arf2bd+S5Iwk5wIbgTtHG1GSdLLWDNohyWeAi4G1SQ4C7wOuA3YmuRJ4CHgzQFXtTbITuA84ClxVVccmNLskaQkD415VVyxx0yVL7L8d2D7KUJKk0fgJVUlqkHGXpAYZd0lqkHGXpAYZd0lqkHGXpAYZd0lqkHGXpAYZd0lqkHGXpAYZd0lqkHGXpAYZd0lqkHGXpAYZd0lqkHGXpAYZd0lqkHGXpAYZd0lqkHGXpAYZd0lqkHGXpAYZd0lqkHGXpAYZd0lqkHGXpAYZd0lqkHGXpAYZd0lqkHGXpAYZd0lqkHGXpAatGeXOSQ4AjwPHgKNVNZfkhcBfArPAAeDXq+p7o40pSToZ43jl/tqquqCq5rrr1wC3V9VG4PbuuiRpBU3isMxm4Kbu8k3AGybwHJKkpzFq3Av4uyR3J9nWbTu7qg4DdN/PWuyOSbYlmU8yv7CwMOIYkqR+Ix1zB15VVYeSnAXcluRfh71jVe0AdgDMzc3ViHNIkvqM9Mq9qg51348AnwMuBB5Nsg6g+35k1CElSSdn2XFP8twkz3/qMvBrwB5gF7C1220rcOuoQ0qSTs4oh2XOBj6X5KnH+Yuq+lKSu4CdSa4EHgLePPqYkjQ5s9d8YdWe+8B1r5/I4y477lX1beD8RbZ/B7hklKEkSaPxE6qS1CDjLkkNMu6S1CDjLkkNMu6S1CDjLkkNMu6S1CDjLkkNMu6S1CDjLkkNMu6S1CDjLkkNMu6S1CDjLkkNMu6S1CDjLkkNMu6S1CDjLkkNMu6S1CDjLkkNMu6S1CDjLkkNMu6S1CDjLkkNMu6S1CDjLkkNMu6S1CDjLkkNMu6S1CDjLkkNMu6S1KCJxT3JZUnuT7I/yTWTeh5J0okmEvckpwF/BrwO2ARckWTTJJ5LknSiSb1yvxDYX1Xfrqr/Bm4GNk/ouSRJx1kzocddDzzcd/0g8Ev9OyTZBmzrrv4gyf0jPN9a4LER7r8s+eBKP+P/WZX1rjLXfGo45dacD4605pcsdcOk4p5FttX/u1K1A9gxlidL5qtqbhyPNQ1OtfWCaz5VuObxmdRhmYPAhr7r5wCHJvRckqTjTCrudwEbk5yb5FnAFmDXhJ5LknSciRyWqaqjSa4G/hY4DbixqvZO4rk6Yzm8M0VOtfWCaz5VuOYxSVUN3kuSNFX8hKokNci4S1KDpibug05nkJ4/6W6/J8krV2POcRpizb/ZrfWeJF9Lcv5qzDlOw562IskvJjmW5E0rOd8kDLPmJBcn2Z1kb5J/XOkZx22Iv9s/leSvk3yrW/PbVmPOcUlyY5IjSfYscfv4+1VVz/gver+U/XfgZ4BnAd8CNh23z+XA39B7j/1FwDdWe+4VWPMvA2d2l193Kqy5b78vA18E3rTac6/An/MLgPuAF3fXz1rtuVdgze8FPthdngG+CzxrtWcfYc2vAV4J7Fni9rH3a1peuQ9zOoPNwJ9Xz9eBFyRZt9KDjtHANVfV16rqe93Vr9P7PME0G/a0Fb8DfBY4spLDTcgwa/4N4JaqegigqqZ93cOsuYDnJwnwPHpxP7qyY45PVd1Bbw1LGXu/piXui53OYP0y9pkmJ7ueK+n95J9mA9ecZD3wRuBjKzjXJA3z5/wy4Mwk/5Dk7iRvXbHpJmOYNf8p8HJ6H368F3hnVT25MuOtirH3a1KnHxi3gaczGHKfaTL0epK8ll7cf2WiE03eMGv+Y+A9VXWs96Ju6g2z5jXALwCXAD8J/HOSr1fVv016uAkZZs2XAruBXwVeCtyW5J+q6vsTnm21jL1f0xL3YU5n0NopD4ZaT5KfBz4BvK6qvrNCs03KMGueA27uwr4WuDzJ0ar6/IpMOH7D/t1+rKp+CPwwyR3A+cC0xn2YNb8NuK56B6T3J3kQ+DngzpUZccWNvV/TclhmmNMZ7ALe2v3W+SLgP6vq8EoPOkYD15zkxcAtwFum+FVcv4Frrqpzq2q2qmaBvwLeMcVhh+H+bt8KvDrJmiTPoXeG1X0rPOc4DbPmh+j9S4UkZwM/C3x7RadcWWPv11S8cq8lTmeQ5Le72z9G750TlwP7gf+i95N/ag255j8EXgRc372SPVpTfEa9IdfclGHWXFX7knwJuAd4EvhEVS36lrppMOSf8weATya5l94hi/dU1dSeCjjJZ4CLgbVJDgLvA06HyfXL0w9IUoOm5bCMJOkkGHdJapBxl6QGGXdJapBxl6QGGXcJSPK7SfYl+XSS31/teaRRGXep5x303mf8wGoPIo2DcdcpL8nH6J1+dhfwe8D5Sb6c5IEkv9Xtsy7JHd051fckefVqziwN4oeYJCDJAXrnrbma3lknLwKeC/wLvY/7XwE8u6q2JzkNeE5VPb5K40oDTcXpB6QVdmtV/Qj4UZKv0Dv/+F3AjUlOBz5fVbtXc0BpEA/LSCc6/p+z1f1nC68BHgE+1cA51dU44y6daHOSZyd5Eb2TPd2V5CXAkar6OHADvf8yTXrG8rCMdKI7gS8ALwY+UFWHkmwF/iDJ/wA/AHzlrmc0f6EqSQ3ysIwkNci4S1KDjLskNci4S1KDjLskNci4S1KDjLskNeh/AXaA4el/qB4IAAAAAElFTkSuQmCC\n",
      "text/plain": [
       "<Figure size 432x288 with 1 Axes>"
      ]
     },
     "metadata": {
      "needs_background": "light"
     },
     "output_type": "display_data"
    },
    {
     "data": {
      "image/png": "iVBORw0KGgoAAAANSUhEUgAAAXcAAAEGCAYAAACevtWaAAAAOXRFWHRTb2Z0d2FyZQBNYXRwbG90bGliIHZlcnNpb24zLjUuMSwgaHR0cHM6Ly9tYXRwbG90bGliLm9yZy/YYfK9AAAACXBIWXMAAAsTAAALEwEAmpwYAAASBklEQVR4nO3dfaxlV13G8e9jp1RbQNrMbR3ayhQdwSliqNeKoATSIrVVpn9YmUbMgE0mGBTwlVYUoklDCcTXUOMEKmNsWisvdiIinYwYokDL7fu0Q+kIpR07di6CQEGBws8/zi4cLmfmnvc7rH4/yeScvfZaZ/9md/W5a/Y5Z99UFZKktnzXWhcgSZo+w12SGmS4S1KDDHdJapDhLkkNWrfWBQCsX7++Nm7cuNZlSNJ3lJtvvvnTVbUwaN9REe4bN25kaWlprcuQpO8oST51uH1elpGkBhnuktQgw12SGmS4S1KDDHdJapDhLkkNMtwlqUGGuyQ1yHCXpAYdFd9QlY5mGy9975oc974rLliT46oNrtwlqUGGuyQ1yHCXpAYZ7pLUIMNdkhpkuEtSg5r4KKQfVZOkb+XKXZIaZLhLUoMMd0lqkOEuSQ0y3CWpQauGe5KrkhxKsnfAvt9OUknW97VdlmR/knuSvGjaBUuSVjfMyv0dwHkrG5OcDrwQuL+vbTOwFTizG3NlkmOmUqkkaWirhntVfRD4zIBdfwL8LlB9bVuAa6vqy1X1SWA/cPY0CpUkDW+sa+5JXgz8Z1XdvmLXqcADfdsHurZBr7E9yVKSpeXl5XHKkCQdxsjhnuR44HXA6wftHtBWA9qoqh1VtVhViwsLC6OWIUk6gnFuP/ADwBnA7UkATgNuSXI2vZX66X19TwMenLRISdJoRl65V9WdVXVyVW2sqo30Av2sqvovYBewNclxSc4ANgE3TbViSdKqhvko5DXAh4GnJTmQ5JLD9a2qu4DrgLuBfwZeWVVfm1axkqThrHpZpqouXmX/xhXblwOXT1aWJGkSfkNVkhpkuEtSgwx3SWqQ4S5JDTLcJalBhrskNchwl6QGGe6S1CDDXZIaZLhLUoMMd0lqkOEuSQ0y3CWpQYa7JDXIcJekBhnuktQgw12SGmS4S1KDhvkdqlclOZRkb1/bm5N8LMkdSd6T5El9+y5Lsj/JPUleNKO6JUlHMMzK/R3AeSvadgPPqKpnAh8HLgNIshnYCpzZjbkyyTFTq1aSNJRVw72qPgh8ZkXbDVX1SLf5EeC07vkW4Nqq+nJVfRLYD5w9xXolSUOYxjX3XwHe1z0/FXigb9+Bru3bJNmeZCnJ0vLy8hTKkCQ9aqJwT/I64BHg6kebBnSrQWOrakdVLVbV4sLCwiRlSJJWWDfuwCTbgJ8DzqmqRwP8AHB6X7fTgAfHL0+SNI6xVu5JzgNeC7y4qr7Ut2sXsDXJcUnOADYBN01epiRpFKuu3JNcAzwfWJ/kAPAGep+OOQ7YnQTgI1X1iqq6K8l1wN30Lte8sqq+NqviJUmDrRruVXXxgOa3H6H/5cDlkxQlSZqM31CVpAYZ7pLUIMNdkhpkuEtSgwx3SWqQ4S5JDTLcJalBhrskNchwl6QGGe6S1CDDXZIaZLhLUoMMd0lqkOEuSQ0y3CWpQYa7JDXIcJekBhnuktSgVcM9yVVJDiXZ29d2UpLdSe7tHk/s23dZkv1J7knyolkVLkk6vGFW7u8AzlvRdimwp6o2AXu6bZJsBrYCZ3ZjrkxyzNSqlSQNZdVwr6oPAp9Z0bwF2Nk93wlc2Nd+bVV9uao+CewHzp5OqZKkYY17zf2UqjoI0D2e3LWfCjzQ1+9A1yZJmqNpv6GaAW01sGOyPclSkqXl5eUplyFJj23jhvtDSTYAdI+HuvYDwOl9/U4DHhz0AlW1o6oWq2pxYWFhzDIkSYOMG+67gG3d823A9X3tW5Mcl+QMYBNw02QlSpJGtW61DkmuAZ4PrE9yAHgDcAVwXZJLgPuBiwCq6q4k1wF3A48Ar6yqr82odknSYawa7lV18WF2nXOY/pcDl09SlCRpMn5DVZIaZLhLUoMMd0lqkOEuSQ0y3CWpQYa7JDXIcJekBhnuktQgw12SGmS4S1KDDHdJapDhLkkNMtwlqUGGuyQ1yHCXpAYZ7pLUIMNdkhpkuEtSgwx3SWrQROGe5DeS3JVkb5Jrknx3kpOS7E5yb/d44rSKlSQNZ+xwT3Iq8CpgsaqeARwDbAUuBfZU1SZgT7ctSZqjSS/LrAO+J8k64HjgQWALsLPbvxO4cMJjSJJGNHa4V9V/Am8B7gcOAp+rqhuAU6rqYNfnIHDyoPFJtidZSrK0vLw8bhmSpAEmuSxzIr1V+hnAk4ETkrx02PFVtaOqFqtqcWFhYdwyJEkDTHJZ5lzgk1W1XFVfBd4NPAd4KMkGgO7x0ORlSpJGMUm43w88O8nxSQKcA+wDdgHbuj7bgOsnK1GSNKp14w6sqhuTvBO4BXgEuBXYATweuC7JJfR+AFw0jUIlScMbO9wBquoNwBtWNH+Z3ipekrRG/IaqJDXIcJekBhnuktQgw12SGmS4S1KDDHdJapDhLkkNMtwlqUGGuyQ1yHCXpAYZ7pLUIMNdkhpkuEtSgwx3SWqQ4S5JDTLcJalBhrskNchwl6QGTRTuSZ6U5J1JPpZkX5KfTHJSkt1J7u0eT5xWsZKk4Uy6cv8z4J+r6unAjwL7gEuBPVW1CdjTbUuS5mjscE/yROB5wNsBquorVfU/wBZgZ9dtJ3DhZCVKkkY1ycr9qcAy8NdJbk3ytiQnAKdU1UGA7vHkQYOTbE+ylGRpeXl5gjIkSStNEu7rgLOAv6yqZwFfZIRLMFW1o6oWq2pxYWFhgjIkSStNEu4HgANVdWO3/U56Yf9Qkg0A3eOhyUqUJI1q7HCvqv8CHkjytK7pHOBuYBewrWvbBlw/UYWSpJGtm3D8rwNXJ3kc8Ang5fR+YFyX5BLgfuCiCY8hSRrRROFeVbcBiwN2nTPJ60qSJuM3VCWpQYa7JDXIcJekBhnuktQgw12SGmS4S1KDDHdJapDhLkkNMtwlqUGGuyQ1yHCXpAYZ7pLUIMNdkhpkuEtSgwx3SWqQ4S5JDTLcJalBhrskNWjicE9yTJJbk/xjt31Skt1J7u0eT5y8TEnSKKaxcn81sK9v+1JgT1VtAvZ025KkOZoo3JOcBlwAvK2veQuws3u+E7hwkmNIkkY36cr9T4HfBb7e13ZKVR0E6B5PHjQwyfYkS0mWlpeXJyxDktRv7HBP8nPAoaq6eZzxVbWjqharanFhYWHcMiRJA6ybYOxzgRcnOR/4buCJSf4WeCjJhqo6mGQDcGgahUqShjf2yr2qLquq06pqI7AV+JeqeimwC9jWddsGXD9xlZKkkczic+5XAC9Mci/wwm5bkjRHk1yW+Yaq+lfgX7vn/w2cM43XlSSNx2+oSlKDDHdJapDhLkkNMtwlqUGGuyQ1yHCXpAYZ7pLUIMNdkhpkuEtSgwx3SWqQ4S5JDTLcJalBhrskNchwl6QGGe6S1CDDXZIaZLhLUoMMd0lq0NjhnuT0JB9Isi/JXUle3bWflGR3knu7xxOnV64kaRiTrNwfAX6rqn4YeDbwyiSbgUuBPVW1CdjTbUuS5mjscK+qg1V1S/f8C8A+4FRgC7Cz67YTuHDCGiVJI5rKNfckG4FnATcCp1TVQej9AABOnsYxJEnDmzjckzweeBfwmqr6/AjjtidZSrK0vLw8aRmSpD4ThXuSY+kF+9VV9e6u+aEkG7r9G4BDg8ZW1Y6qWqyqxYWFhUnKkCStMMmnZQK8HdhXVX/ct2sXsK17vg24fvzyJEnjWDfB2OcCvwzcmeS2ru33gCuA65JcAtwPXDRRhZKkkY0d7lX1b0AOs/uccV9XkjQ5v6EqSQ0y3CWpQYa7JDXIcJekBhnuktQgw12SGmS4S1KDDHdJapDhLkkNMtwlqUGGuyQ1yHCXpAYZ7pLUIMNdkhpkuEtSgwx3SWrQJL+JSZKasPHS967Zse+74oKZvK4rd0lqkOEuSQ2aWbgnOS/JPUn2J7l0VseRJH27mYR7kmOAtwI/C2wGLk6yeRbHkiR9u1mt3M8G9lfVJ6rqK8C1wJYZHUuStMKsPi1zKvBA3/YB4Cf6OyTZDmzvNh9Ocs8Ex1sPfHqC8WPJm1btsiZ1DcG6RuP8Go11jSBvmqiupxxux6zCPQPa6ls2qnYAO6ZysGSpqhan8VrTZF2jsa7RWNdoHmt1zeqyzAHg9L7t04AHZ3QsSdIKswr3jwKbkpyR5HHAVmDXjI4lSVphJpdlquqRJL8GvB84Briqqu6axbE6U7m8MwPWNRrrGo11jeYxVVeqavVekqTvKH5DVZIaZLhLUoOO6nBf7RYG6fnzbv8dSc4aduyM6/qlrp47knwoyY/27bsvyZ1JbkuyNOe6np/kc92xb0vy+mHHzriu3+mraW+SryU5qds3y/N1VZJDSfYeZv9aza/V6lqr+bVaXWs1v1ara+7zK8npST6QZF+Su5K8ekCf2c6vqjoq/9B7I/Y/gKcCjwNuBzav6HM+8D56n6t/NnDjsGNnXNdzgBO75z/7aF3d9n3A+jU6X88H/nGcsbOsa0X/nwf+Zdbnq3vt5wFnAXsPs3/u82vIuuY+v4asa+7za5i61mJ+ARuAs7rnTwA+Pu/8OppX7sPcwmAL8DfV8xHgSUk2DDl2ZnVV1Yeq6rPd5kfofc5/1ib5O6/p+VrhYuCaKR37iKrqg8BnjtBlLebXqnWt0fwa5nwdzpqerxXmMr+q6mBV3dI9/wKwj9439/vNdH4dzeE+6BYGK0/O4foMM3aWdfW7hN5P50cVcEOSm9O7BcO0DFvXTya5Pcn7kpw54thZ1kWS44HzgHf1Nc/qfA1jLebXqOY1v4Y17/k1tLWaX0k2As8Cblyxa6bz62j+TUyr3sLgCH2GGTuuoV87yQvo/c/3U33Nz62qB5OcDOxO8rFu5TGPum4BnlJVDyc5H/gHYNOQY2dZ16N+Hvj3qupfhc3qfA1jLebX0OY8v4axFvNrFHOfX0keT++HyWuq6vMrdw8YMrX5dTSv3Ie5hcHh+szy9gdDvXaSZwJvA7ZU1X8/2l5VD3aPh4D30Psn2FzqqqrPV9XD3fN/Ao5Nsn6YsbOsq89WVvyTeYbnaxhrMb+Gsgbza1VrNL9GMdf5leRYesF+dVW9e0CX2c6vab+RMK0/9P5V8QngDL75psKZK/pcwLe+IXHTsGNnXNf3A/uB56xoPwF4Qt/zDwHnzbGu7+ObX1w7G7i/O3drer66ft9L77rpCfM4X33H2Mjh3yCc+/wasq65z68h65r7/BqmrrWYX93f+2+APz1Cn5nOr6md3Fn8ofdu8sfpvXP8uq7tFcAr+k7gW7v9dwKLRxo7x7reBnwWuK37s9S1P7X7D3U7cNca1PVr3XFvp/dG3HOONHZedXXbLwOuXTFu1ufrGuAg8FV6q6VLjpL5tVpdazW/VqtrrebXEetai/lF71JZAXf0/Xc6f57zy9sPSFKDjuZr7pKkMRnuktQgw12SGmS4S1KDDHdJapDhLg2Q5DXd19Wl70h+FFKPCUlCb75/fcj+99H73PGnZ1qYNCOu3NWsJBu7+2lfSe++J3+Q5KPdvbP/sOtzQpL3dje72pvkJUleBTwZ+ECSD3T9fibJh5PckuTvu3uGkOTHu3uq357kpiRPSHJ8kuu64/xdkhuTLK7VedBj09F84zBpGp4GvJzeTax+gd7X4gPsSvI8YAF4sKouAEjyvVX1uSS/Cbygqj7d3R/l94Fzq+qLSV4L/GaSK4C/A15SVR9N8kTgf4HXAJ+tqmcmeQa9bydKc+XKXa37VPXulf0z3Z9b6a3in07vjoV3AucmeVOSn66qzw14jWcDm4F/T3IbsA14Cr0fHAer6qPwjRtnPULvq+fXdm176X0FXZorV+5q3Re7xwBvrKq/WtkhyY/Ru5fHG5PcUFV/tLILsLuqLl4x7pkMvhXroFu2SnPlyl2PFe8HfqXvWvmpSU5O8mTgS1X1t8Bb6P26NoAv0Pv1aNC7CdZzk/xgN/b4JD8EfAx4cpIf79qfkGQd8G/AL3Ztm4EfmcvfUOrjyl2PCVV1Q5IfBj7c++AMDwMvBX4QeHOSr9O7q+CvdkN2AO9LcrCqXpDkZcA1SY7r9v9+VX08yUuAv0jyPfSut58LXAnsTHIHvctAdwCDLvdIM+NHIaUpS3IMcGxV/V+SHwD2AD9Uvd+HKc2FK3dp+o6n9zHKY+ldf/9Vg13z5spdkhrkG6qS1CDDXZIaZLhLUoMMd0lqkOEuSQ36f7ch2M+mHuGIAAAAAElFTkSuQmCC\n",
      "text/plain": [
       "<Figure size 432x288 with 1 Axes>"
      ]
     },
     "metadata": {
      "needs_background": "light"
     },
     "output_type": "display_data"
    },
    {
     "data": {
      "image/png": "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\n",
      "text/plain": [
       "<Figure size 432x288 with 1 Axes>"
      ]
     },
     "metadata": {
      "needs_background": "light"
     },
     "output_type": "display_data"
    },
    {
     "data": {
      "image/png": "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\n",
      "text/plain": [
       "<Figure size 432x288 with 1 Axes>"
      ]
     },
     "metadata": {
      "needs_background": "light"
     },
     "output_type": "display_data"
    },
    {
     "data": {
      "image/png": "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\n",
      "text/plain": [
       "<Figure size 432x288 with 1 Axes>"
      ]
     },
     "metadata": {
      "needs_background": "light"
     },
     "output_type": "display_data"
    },
    {
     "data": {
      "image/png": "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\n",
      "text/plain": [
       "<Figure size 432x288 with 1 Axes>"
      ]
     },
     "metadata": {
      "needs_background": "light"
     },
     "output_type": "display_data"
    },
    {
     "data": {
      "image/png": "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\n",
      "text/plain": [
       "<Figure size 432x288 with 1 Axes>"
      ]
     },
     "metadata": {
      "needs_background": "light"
     },
     "output_type": "display_data"
    },
    {
     "data": {
      "image/png": "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\n",
      "text/plain": [
       "<Figure size 432x288 with 1 Axes>"
      ]
     },
     "metadata": {
      "needs_background": "light"
     },
     "output_type": "display_data"
    }
   ],
   "source": [
    "for i in range(len(feature_names)-1):\n",
    "    plt.figure()\n",
    "    plt.hist(heart_data[:,i])\n",
    "    plt.xlabel(feature_names[i])"
   ]
  },
  {
   "cell_type": "code",
   "execution_count": null,
   "metadata": {},
   "outputs": [],
   "source": []
  },
  {
   "cell_type": "markdown",
   "metadata": {},
   "source": [
    "## Method 2: Random Forest"
   ]
  },
  {
   "cell_type": "code",
<<<<<<< HEAD
   "execution_count": 4,
=======
   "execution_count": 26,
>>>>>>> 0f9d189a6b432fafb37046757c725d82053c014d
   "metadata": {},
   "outputs": [
    {
     "data": {
      "text/plain": [
<<<<<<< HEAD
       "RandomForestClassifier(n_estimators=5, n_jobs=2, random_state=1)"
      ]
     },
     "execution_count": 4,
=======
       "RandomForestClassifier(max_depth=8, n_estimators=10, n_jobs=2, random_state=4)"
      ]
     },
     "execution_count": 26,
>>>>>>> 0f9d189a6b432fafb37046757c725d82053c014d
     "metadata": {},
     "output_type": "execute_result"
    }
   ],
   "source": [
    "forest = RandomForestClassifier(criterion='gini',\n",
<<<<<<< HEAD
    "                                 n_estimators=5,\n",
    "                                 random_state=1,\n",
    "                                 n_jobs=2)\n",
    "forest.fit(X_train, y_train)"
   ]
=======
    "                                 max_depth = 8,\n",
    "                                 n_estimators=10,\n",
    "                                 random_state=4,\n",
    "                                 n_jobs=2)\n",
    "forest.fit(X_train, y_train)"
   ]
  },
  {
   "cell_type": "code",
   "execution_count": 27,
   "metadata": {},
   "outputs": [
    {
     "name": "stdout",
     "output_type": "stream",
     "text": [
      "Accuracy: 0.868\n"
     ]
    }
   ],
   "source": [
    "y_pred = forest.predict(X_test)\n",
    "print('Accuracy: %.3f' % accuracy_score(y_test, y_pred))"
   ]
>>>>>>> 0f9d189a6b432fafb37046757c725d82053c014d
  },
  {
   "cell_type": "code",
   "execution_count": 5,
   "metadata": {},
   "outputs": [
    {
     "name": "stdout",
     "output_type": "stream",
     "text": [
      "Accuracy: 0.835\n"
     ]
    }
   ],
   "source": [
    "y_pred = forest.predict(X_test)\n",
    "print('Accuracy: %.3f' % accuracy_score(y_test, y_pred))"
   ]
  },
  {
   "cell_type": "markdown",
   "metadata": {},
   "source": [
    "## Method 3: Logistic Regression"
   ]
  },
  {
   "cell_type": "code",
   "execution_count": null,
   "metadata": {},
   "outputs": [],
   "source": []
  }
 ],
 "metadata": {
  "kernelspec": {
   "display_name": "Python 3 (ipykernel)",
   "language": "python",
   "name": "python3"
  },
  "language_info": {
   "codemirror_mode": {
    "name": "ipython",
    "version": 3
   },
   "file_extension": ".py",
   "mimetype": "text/x-python",
   "name": "python",
   "nbconvert_exporter": "python",
   "pygments_lexer": "ipython3",
   "version": "3.9.12"
  }
 },
 "nbformat": 4,
 "nbformat_minor": 2
}
